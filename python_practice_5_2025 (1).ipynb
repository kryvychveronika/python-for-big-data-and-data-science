{
  "nbformat": 4,
  "nbformat_minor": 0,
  "metadata": {
    "colab": {
      "provenance": []
    },
    "kernelspec": {
      "name": "python3",
      "display_name": "Python 3"
    },
    "language_info": {
      "name": "python"
    }
  },
  "cells": [
    {
      "cell_type": "markdown",
      "source": [
        "# I. OOP"
      ],
      "metadata": {
        "id": "5qV_sehzFCTp"
      }
    },
    {
      "cell_type": "markdown",
      "source": [
        "1. (6б). Створіть клас Building, додайте три атрибути, один з яких має значення за замовчуванням та два методи на свій розсуд."
      ],
      "metadata": {
        "id": "tx_U_hOALyfg"
      }
    },
    {
      "cell_type": "code",
      "source": [
        "class Building ():\n",
        "  def __init__(self, floors, rooms, color=\"коричневий\"):\n",
        "    self.floors = floors\n",
        "    self.color = color\n",
        "    self.rooms = rooms\n",
        "\n",
        "  def describe(self):\n",
        "    print(f\"{self.floors} поверхів, {self.color} колір, {self.rooms} кімнат\")\n",
        "\n",
        "  def repaint(self, new_color):\n",
        "    self.color = new_color\n",
        "    print(f\"Тепер будівля має {self.color} колір\")\n",
        "\n",
        "my_building = Building(2, 10)\n",
        "my_building.describe()\n",
        "my_building.repaint(\"білий\")\n",
        "my_building.describe()"
      ],
      "metadata": {
        "id": "-Vf895KaL88N",
        "colab": {
          "base_uri": "https://localhost:8080/"
        },
        "outputId": "b8efc6a0-1105-4f05-b2aa-e9dcd61755aa"
      },
      "execution_count": null,
      "outputs": [
        {
          "output_type": "stream",
          "name": "stdout",
          "text": [
            "2 поверхів, коричневий колір, 10 кімнат\n",
            "Тепер будівля має білий колір\n",
            "2 поверхів, білий колір, 10 кімнат\n"
          ]
        }
      ]
    },
    {
      "cell_type": "markdown",
      "source": [
        "2. (2б). Створіть два обʼєкти цього класу, де один з обʼєктів створюється із дефолтним значенням атрибуту. На одному обʼєкті отримайте значення його атрибуту, а на іншому викличте один з його методів."
      ],
      "metadata": {
        "id": "X_UlOMB0L93w"
      }
    },
    {
      "cell_type": "code",
      "source": [
        "building1 = Building(3, 5, \"білий\")\n",
        "building2 = Building(5, 3)\n",
        "print(\"колір першої будівлі - \"+building1.color)\n",
        "building2.describe()"
      ],
      "metadata": {
        "id": "7gBu0ESOMCpG",
        "colab": {
          "base_uri": "https://localhost:8080/"
        },
        "outputId": "fb63560b-9bec-4b04-e343-9218982d549b"
      },
      "execution_count": null,
      "outputs": [
        {
          "output_type": "stream",
          "name": "stdout",
          "text": [
            "колір першої будівлі - білий\n",
            "5 поверхів, коричневий колір, 3 кімнат\n"
          ]
        }
      ]
    },
    {
      "cell_type": "markdown",
      "source": [
        "3. (5б). Створіть клас, де атрибути мають різні рівні доступу. Спробуйте отримати їхні значення та опишіть результати."
      ],
      "metadata": {
        "id": "HoqSCZt1MHn5"
      }
    },
    {
      "cell_type": "code",
      "source": [
        "class Song:\n",
        "  def __init__(self, name, artist, length):\n",
        "    self.name = name\n",
        "    self._artist = artist\n",
        "    self.__length = length\n",
        "song = Song(\"Sharks\", \"Imagine Dragons\", 3.11)\n",
        "print(song.name)\n",
        "print(song._artist)\n",
        "print(song._Song__length) # виводе правильне значення\n",
        "print(song.__length) # виводить помилку, бо атрибут приватний і не може викликатись ззовні"
      ],
      "metadata": {
        "id": "r9b3vJxBMSPV",
        "colab": {
          "base_uri": "https://localhost:8080/",
          "height": 233
        },
        "outputId": "90d207d6-e291-4e63-f9ac-f76bbfd4e1f2"
      },
      "execution_count": null,
      "outputs": [
        {
          "output_type": "stream",
          "name": "stdout",
          "text": [
            "Sharks\n",
            "Imagine Dragons\n",
            "3.11\n"
          ]
        },
        {
          "output_type": "error",
          "ename": "AttributeError",
          "evalue": "'Song' object has no attribute '__length'",
          "traceback": [
            "\u001b[0;31m---------------------------------------------------------------------------\u001b[0m",
            "\u001b[0;31mAttributeError\u001b[0m                            Traceback (most recent call last)",
            "\u001b[0;32m<ipython-input-20-bd1eb67486a6>\u001b[0m in \u001b[0;36m<cell line: 0>\u001b[0;34m()\u001b[0m\n\u001b[1;32m      8\u001b[0m \u001b[0mprint\u001b[0m\u001b[0;34m(\u001b[0m\u001b[0msong\u001b[0m\u001b[0;34m.\u001b[0m\u001b[0m_artist\u001b[0m\u001b[0;34m)\u001b[0m\u001b[0;34m\u001b[0m\u001b[0;34m\u001b[0m\u001b[0m\n\u001b[1;32m      9\u001b[0m \u001b[0mprint\u001b[0m\u001b[0;34m(\u001b[0m\u001b[0msong\u001b[0m\u001b[0;34m.\u001b[0m\u001b[0m_Song__length\u001b[0m\u001b[0;34m)\u001b[0m \u001b[0;31m# виводе правильне значення\u001b[0m\u001b[0;34m\u001b[0m\u001b[0;34m\u001b[0m\u001b[0m\n\u001b[0;32m---> 10\u001b[0;31m \u001b[0mprint\u001b[0m\u001b[0;34m(\u001b[0m\u001b[0msong\u001b[0m\u001b[0;34m.\u001b[0m\u001b[0m__length\u001b[0m\u001b[0;34m)\u001b[0m \u001b[0;31m# виводить помилку, бо атрибут приватний і не може викликатись ззовні\u001b[0m\u001b[0;34m\u001b[0m\u001b[0;34m\u001b[0m\u001b[0m\n\u001b[0m",
            "\u001b[0;31mAttributeError\u001b[0m: 'Song' object has no attribute '__length'"
          ]
        }
      ]
    },
    {
      "cell_type": "markdown",
      "source": [
        "4. (7б). Як ви розумієте термін self? Для чого використовується метод __init __?"
      ],
      "metadata": {
        "id": "5op2m2vgMSkZ"
      }
    },
    {
      "cell_type": "markdown",
      "source": [
        "self - посилання на сам об'єкт, який створюємо\n",
        "__init __ - ініціалізатор, тобто створення/задавання початкового стану об'єкту"
      ],
      "metadata": {
        "id": "DyiPqNRvMasx"
      }
    },
    {
      "cell_type": "markdown",
      "source": [
        "5. (9б). Створіть клас 3D-фігура без атрибутів, з методом get_volume для отримання об'єму фігури, що повертає 0 та __add __, який приймає self та other в якості аргументів, а повертає суму об'ємів 3d-фігур self та other."
      ],
      "metadata": {
        "id": "-6X8EGfjMd2y"
      }
    },
    {
      "cell_type": "code",
      "source": [
        "class Figure3D:\n",
        "  def get_volume(self):\n",
        "    return 0\n",
        "  def __add__(self, other):\n",
        "    return self.get_volume() + other.get_volume()\n",
        "\n",
        "f1 = Figure3D()\n",
        "f2 = Figure3D()\n",
        "print(f1 + f2)"
      ],
      "metadata": {
        "id": "4rvO_wYUMaEr",
        "colab": {
          "base_uri": "https://localhost:8080/"
        },
        "outputId": "1b29393d-3b9e-4b1c-fd3e-dab13d674801"
      },
      "execution_count": null,
      "outputs": [
        {
          "output_type": "stream",
          "name": "stdout",
          "text": [
            "0\n"
          ]
        }
      ]
    },
    {
      "cell_type": "markdown",
      "source": [
        "6. (11б). Створіть 2 дочірніх класи від 3d-фігура: Циліндр та Куб, які мають атрибути, необхідні для розрахунку об'єму. Визначте метод get_volume в кожному з них так, щоби вони розраховували об'єм у залежності від формули для кожного типу фігури. Створіть обʼєкт класу Циліндр та обʼєкт класу Куб. Виконайте операцію суми за допомогою оператора + між ними, аби знайти сумарний об'єм."
      ],
      "metadata": {
        "id": "SFcKnnv5Mo_z"
      }
    },
    {
      "cell_type": "code",
      "source": [
        "import math\n",
        "\n",
        "class Cylinder(Figure3D):\n",
        "  def __init__(self, radius, height):\n",
        "    self.radius = radius\n",
        "    self.height = height\n",
        "  def get_volume(self):\n",
        "    return math.pi * self.radius ** 2 * self.height\n",
        "\n",
        "cylinder = Cylinder(4, 5)\n",
        "print(\"Обʼєм циліндра:\", cylinder.get_volume())\n",
        "\n",
        "class Cube(Figure3D):\n",
        "  def __init__(self, side):\n",
        "    self.side = side\n",
        "  def get_volume(self):\n",
        "    return self.side ** 3\n",
        "\n",
        "cube = Cube(5)\n",
        "print(\"Обʼєм куба:\", cube.get_volume())\n",
        "\n",
        "total_volume = cube + cylinder\n",
        "print(\"Сумарний об'єм:\", total_volume)"
      ],
      "metadata": {
        "id": "H3GVNr69Muf3",
        "colab": {
          "base_uri": "https://localhost:8080/"
        },
        "outputId": "363b9569-bb4d-4f32-ef1a-73396a7dd8a2"
      },
      "execution_count": null,
      "outputs": [
        {
          "output_type": "stream",
          "name": "stdout",
          "text": [
            "Обʼєм циліндра: 251.32741228718345\n",
            "Обʼєм куба: 125\n",
            "Сумарний об'єм: 376.32741228718345\n"
          ]
        }
      ]
    },
    {
      "cell_type": "markdown",
      "source": [
        "7. (3б). Продемонструйте різницю між isinstance та issubclass."
      ],
      "metadata": {
        "id": "HCvR206YMvLK"
      }
    },
    {
      "cell_type": "code",
      "source": [
        "class Planets:\n",
        "  pass\n",
        "class Jupyter(Planets):\n",
        "  pass\n",
        "jupyter = Jupyter()\n",
        "\n",
        "print(isinstance(jupyter, Jupyter)) # (object, class)\n",
        "print(isinstance(jupyter, Planets))\n",
        "\n",
        "print(issubclass(Jupyter, Planets))\n",
        "print(issubclass(Planets, Jupyter)) # Planets не наслідує Jupyter, (subclass, class)"
      ],
      "metadata": {
        "id": "L_V1bBvDM0GN",
        "colab": {
          "base_uri": "https://localhost:8080/"
        },
        "outputId": "764959c5-6038-47b0-a5e3-fcba1b960f5a"
      },
      "execution_count": null,
      "outputs": [
        {
          "output_type": "stream",
          "name": "stdout",
          "text": [
            "True\n",
            "True\n",
            "True\n",
            "False\n"
          ]
        }
      ]
    },
    {
      "cell_type": "markdown",
      "source": [
        "8. (13б). Створіть клас EWallet з приватними атрибутами balance та id. Реалізуйте методи поповнення та зняття коштів, забезпечивши належну інкапсуляцію. Підказка: використовуйте декоратори property та setter."
      ],
      "metadata": {
        "id": "jjsaBZ-iM0Qq"
      }
    },
    {
      "cell_type": "code",
      "source": [
        "class EWallet:\n",
        "  def __init__(self, id, initial_balance = 0):\n",
        "    self.__id = id\n",
        "    self.__balance = initial_balance\n",
        "\n",
        "  @property\n",
        "  def balance(self):\n",
        "    return self.__balance\n",
        "\n",
        "  @balance.setter\n",
        "  def balance(self, value):\n",
        "      self.__balance = value\n",
        "\n",
        "  @property\n",
        "  def id(self):\n",
        "    return self.__id\n",
        "\n",
        "  def deposit(self, amount):\n",
        "    if amount > 0:\n",
        "      self.__balance += amount\n",
        "      print(f\"Поповнено на {amount}\")\n",
        "    else:\n",
        "      print(\"Поповнення має бути більше 0\")\n",
        "\n",
        "  def withdraw(self, amount):\n",
        "    if 0 < amount <= self.__balance:\n",
        "      self.__balance -= amount\n",
        "      print(f\"Знято {amount}\")\n",
        "    else:\n",
        "      print(\"Недостатньо коштів або неправильна сума\")\n",
        "\n",
        "\n",
        "my_wallet = EWallet(\"VK1905\", 150)\n",
        "print(\"Початковий баланс:\", my_wallet.balance)\n",
        "my_wallet.deposit(100) # викликаємо метод в залежності хочемо поповнити чи зняти готівку\n",
        "my_wallet.withdraw(100)\n",
        "print(\"Новий баланс:\", my_wallet.balance)"
      ],
      "metadata": {
        "id": "xCvZ7lh8M7YA",
        "colab": {
          "base_uri": "https://localhost:8080/"
        },
        "outputId": "04471141-4535-4b1b-ec70-497c1ecafc8a"
      },
      "execution_count": 39,
      "outputs": [
        {
          "output_type": "stream",
          "name": "stdout",
          "text": [
            "Початковий баланс: 150\n",
            "Поповнено на 100\n",
            "Знято 100\n",
            "Новий баланс: 150\n"
          ]
        }
      ]
    },
    {
      "cell_type": "markdown",
      "source": [
        "9. (11б). Створіть клас ShoppingCart, який містить список об'єктів типу Item. Реалізуйте методи для додавання айтемів, їх видалення та відображення списку айтемів."
      ],
      "metadata": {
        "id": "tIzL2SJTM8ft"
      }
    },
    {
      "cell_type": "code",
      "source": [
        "class ShoppingCart:\n",
        "  def __init__(self):\n",
        "    self.items = []\n",
        "\n",
        "  def add_item(self, item):\n",
        "    self.items.append(item)\n",
        "\n",
        "  def remove_item(self, name):\n",
        "    if name in self.items:\n",
        "        self.items.remove(name)\n",
        "        print(f\"Видалено: {name}\")\n",
        "\n",
        "  def show_cart(self):\n",
        "    print(\"У кошику зараз:\")\n",
        "    for item in self.items:\n",
        "      print(f\"{item}\")\n",
        "\n",
        "cart = ShoppingCart()\n",
        "cart.add_item('apple')\n",
        "cart.add_item('banana')\n",
        "cart.show_cart()\n",
        "cart.remove_item('apple')\n",
        "cart.show_cart()"
      ],
      "metadata": {
        "id": "HWxfJKLtNAUZ",
        "colab": {
          "base_uri": "https://localhost:8080/"
        },
        "outputId": "00f23d68-20ad-4cb2-8d45-99a6a7ff96c5"
      },
      "execution_count": 65,
      "outputs": [
        {
          "output_type": "stream",
          "name": "stdout",
          "text": [
            "У кошику зараз:\n",
            "apple\n",
            "banana\n",
            "Видалено: apple\n",
            "У кошику зараз:\n",
            "banana\n"
          ]
        }
      ]
    },
    {
      "cell_type": "markdown",
      "source": [
        "10. (13б). Створіть клас Vehicle з атрибутами brand (manufacturer) та production_age. Створіть ще один клас Engine з такими атрибутами, як type (ex. petrol) та size (volume, litres). Створіть клас Car, який успадковує обидва класи Vehicle та Engine. Продемонструйте використання множинної спадковості, створивши обʼєкт класу Car та отримавши mro для цього класу."
      ],
      "metadata": {
        "id": "lmV8pAwwNIqu"
      }
    },
    {
      "cell_type": "code",
      "source": [
        "class Vehicle:\n",
        "  def __init__(self, brand, production_age):\n",
        "    self.brand = brand\n",
        "    self.production_age = production_age\n",
        "\n",
        "class Engine:\n",
        "  def __init__(self, engine_type, size):\n",
        "    self.engine_type = engine_type\n",
        "    self.size = size\n",
        "\n",
        "class Car(Vehicle, Engine):\n",
        "  def __init__(self, brand, production_age, engine_type, size, color):\n",
        "    Vehicle.__init__(self, brand, production_age)\n",
        "    Engine.__init__(self, engine_type, size)\n",
        "    self.color = color\n",
        "\n",
        "my_car = Car(\"Nissan\", 3, \"electric\", 75, \"white\")\n",
        "Car.mro()"
      ],
      "metadata": {
        "id": "R49grKlWNPeN",
        "colab": {
          "base_uri": "https://localhost:8080/"
        },
        "outputId": "bad0efa4-8baa-499c-b684-a3647e99a5aa"
      },
      "execution_count": 68,
      "outputs": [
        {
          "output_type": "execute_result",
          "data": {
            "text/plain": [
              "[__main__.Car, __main__.Vehicle, __main__.Engine, object]"
            ]
          },
          "metadata": {},
          "execution_count": 68
        }
      ]
    },
    {
      "cell_type": "markdown",
      "source": [
        "# II. Iterator"
      ],
      "metadata": {
        "id": "dIJyUiNBFG8G"
      }
    },
    {
      "cell_type": "markdown",
      "source": [
        "11. (4б). Визначте рядок(str) з 4ма різними за значенням символами. Створіть ітератор на основі цього рядка. Викличте 5 разів функцію next на ітераторі, 4ри перших з них огорніть у ф-цію print()."
      ],
      "metadata": {
        "id": "13vsm0NyKIzL"
      }
    },
    {
      "cell_type": "code",
      "source": [
        "my_str = \"nika\"\n",
        "my_iter = iter(my_str)\n",
        "print(next(my_iter))\n",
        "print(next(my_iter))\n",
        "print(next(my_iter))\n",
        "print(next(my_iter))\n",
        "next(my_iter)"
      ],
      "metadata": {
        "id": "81ntabAkKuz-",
        "colab": {
          "base_uri": "https://localhost:8080/",
          "height": 251
        },
        "outputId": "ba6c9a4b-020a-4c28-e2ad-106c569240ec"
      },
      "execution_count": 1,
      "outputs": [
        {
          "output_type": "stream",
          "name": "stdout",
          "text": [
            "n\n",
            "i\n",
            "k\n",
            "a\n"
          ]
        },
        {
          "output_type": "error",
          "ename": "StopIteration",
          "evalue": "",
          "traceback": [
            "\u001b[0;31m---------------------------------------------------------------------------\u001b[0m",
            "\u001b[0;31mStopIteration\u001b[0m                             Traceback (most recent call last)",
            "\u001b[0;32m<ipython-input-1-025c1473b19d>\u001b[0m in \u001b[0;36m<cell line: 0>\u001b[0;34m()\u001b[0m\n\u001b[1;32m      5\u001b[0m \u001b[0mprint\u001b[0m\u001b[0;34m(\u001b[0m\u001b[0mnext\u001b[0m\u001b[0;34m(\u001b[0m\u001b[0mmy_iter\u001b[0m\u001b[0;34m)\u001b[0m\u001b[0;34m)\u001b[0m\u001b[0;34m\u001b[0m\u001b[0;34m\u001b[0m\u001b[0m\n\u001b[1;32m      6\u001b[0m \u001b[0mprint\u001b[0m\u001b[0;34m(\u001b[0m\u001b[0mnext\u001b[0m\u001b[0;34m(\u001b[0m\u001b[0mmy_iter\u001b[0m\u001b[0;34m)\u001b[0m\u001b[0;34m)\u001b[0m\u001b[0;34m\u001b[0m\u001b[0;34m\u001b[0m\u001b[0m\n\u001b[0;32m----> 7\u001b[0;31m \u001b[0mnext\u001b[0m\u001b[0;34m(\u001b[0m\u001b[0mmy_iter\u001b[0m\u001b[0;34m)\u001b[0m\u001b[0;34m\u001b[0m\u001b[0;34m\u001b[0m\u001b[0m\n\u001b[0m",
            "\u001b[0;31mStopIteration\u001b[0m: "
          ]
        }
      ]
    },
    {
      "cell_type": "markdown",
      "source": [],
      "metadata": {
        "id": "nQ9MJ6-ra2rC"
      }
    },
    {
      "cell_type": "markdown",
      "source": [
        "А що якщо викликати цю ж функцію на рядку?"
      ],
      "metadata": {
        "id": "aekWHGXOLRsO"
      }
    },
    {
      "cell_type": "code",
      "source": [
        "next(\"nika\")"
      ],
      "metadata": {
        "id": "mxATGsErLV1i",
        "colab": {
          "base_uri": "https://localhost:8080/",
          "height": 144
        },
        "outputId": "673c9f4c-c0e7-4a01-af22-94f8f407b25f"
      },
      "execution_count": 2,
      "outputs": [
        {
          "output_type": "error",
          "ename": "TypeError",
          "evalue": "'str' object is not an iterator",
          "traceback": [
            "\u001b[0;31m---------------------------------------------------------------------------\u001b[0m",
            "\u001b[0;31mTypeError\u001b[0m                                 Traceback (most recent call last)",
            "\u001b[0;32m<ipython-input-2-c9c91f374296>\u001b[0m in \u001b[0;36m<cell line: 0>\u001b[0;34m()\u001b[0m\n\u001b[0;32m----> 1\u001b[0;31m \u001b[0mnext\u001b[0m\u001b[0;34m(\u001b[0m\u001b[0;34m\"nika\"\u001b[0m\u001b[0;34m)\u001b[0m\u001b[0;34m\u001b[0m\u001b[0;34m\u001b[0m\u001b[0m\n\u001b[0m",
            "\u001b[0;31mTypeError\u001b[0m: 'str' object is not an iterator"
          ]
        }
      ]
    },
    {
      "cell_type": "markdown",
      "source": [
        " 12. (5б). Опишіть своїми словами в одному реченні, як ви розумієте різницю між ітерабельними обʼєктами та ітераторами (можна на прикладі)."
      ],
      "metadata": {
        "id": "XwtMEopwJ4pH"
      }
    },
    {
      "cell_type": "markdown",
      "source": [
        "Ітератори є ітерабельними об'єктами, але ітерабельні об'єкти не завжди є ітераторами. В ітераторах вже є метод __next__ та __iter__ яким можна дістати наступний айтем об'єкту. Щоб ітерабельний об'єкт став ітератором, потрібно огоррнути його в iter()"
      ],
      "metadata": {
        "id": "-sHrODc3KFn8"
      }
    },
    {
      "cell_type": "markdown",
      "source": [
        "13. (11б). Створіть клас, що має визначений Iterator Protocol та при кожному виклику next повертає назву дня тижня, поки вони не вичерпаються. Зверніть увагу, що порядок має значення."
      ],
      "metadata": {
        "id": "E9qJWmNbK8Gl"
      }
    },
    {
      "cell_type": "code",
      "source": [
        "class WeekIterator:\n",
        "  def __init__(self):\n",
        "    self.days = [\"Понеділок\", \"Вівторок\", \"Середа\", \"Четвер\", \"Пʼятниця\", \"Субота\", \"Неділя\"]\n",
        "    self.index = 0\n",
        "\n",
        "  def __iter__(self):\n",
        "    return self\n",
        "\n",
        "  def __next__(self):\n",
        "    if self.index < len(self.days):\n",
        "          day = self.days[self.index]\n",
        "          self.index += 1\n",
        "          return day\n",
        "    else:\n",
        "        raise StopIteration\n",
        "\n",
        "week = WeekIterator()\n",
        "print(next(week))\n",
        "print(next(week))\n",
        "print(next(week))\n",
        "print(next(week))\n",
        "print(next(week))\n",
        "print(next(week))\n",
        "print(next(week))\n",
        "print(next(week))"
      ],
      "metadata": {
        "id": "cqx-g_RsLo6I",
        "colab": {
          "base_uri": "https://localhost:8080/",
          "height": 430
        },
        "outputId": "76690663-b941-4186-f351-6f0084084f58"
      },
      "execution_count": 17,
      "outputs": [
        {
          "output_type": "stream",
          "name": "stdout",
          "text": [
            "Понеділок\n",
            "Вівторок\n",
            "Середа\n",
            "Четвер\n",
            "Пʼятниця\n",
            "Субота\n",
            "Неділя\n"
          ]
        },
        {
          "output_type": "error",
          "ename": "StopIteration",
          "evalue": "",
          "traceback": [
            "\u001b[0;31m---------------------------------------------------------------------------\u001b[0m",
            "\u001b[0;31mStopIteration\u001b[0m                             Traceback (most recent call last)",
            "\u001b[0;32m<ipython-input-17-7ba1f6d16156>\u001b[0m in \u001b[0;36m<cell line: 0>\u001b[0;34m()\u001b[0m\n\u001b[1;32m     23\u001b[0m \u001b[0mprint\u001b[0m\u001b[0;34m(\u001b[0m\u001b[0mnext\u001b[0m\u001b[0;34m(\u001b[0m\u001b[0mweek\u001b[0m\u001b[0;34m)\u001b[0m\u001b[0;34m)\u001b[0m\u001b[0;34m\u001b[0m\u001b[0;34m\u001b[0m\u001b[0m\n\u001b[1;32m     24\u001b[0m \u001b[0mprint\u001b[0m\u001b[0;34m(\u001b[0m\u001b[0mnext\u001b[0m\u001b[0;34m(\u001b[0m\u001b[0mweek\u001b[0m\u001b[0;34m)\u001b[0m\u001b[0;34m)\u001b[0m\u001b[0;34m\u001b[0m\u001b[0;34m\u001b[0m\u001b[0m\n\u001b[0;32m---> 25\u001b[0;31m \u001b[0mprint\u001b[0m\u001b[0;34m(\u001b[0m\u001b[0mnext\u001b[0m\u001b[0;34m(\u001b[0m\u001b[0mweek\u001b[0m\u001b[0;34m)\u001b[0m\u001b[0;34m)\u001b[0m\u001b[0;34m\u001b[0m\u001b[0;34m\u001b[0m\u001b[0m\n\u001b[0m",
            "\u001b[0;32m<ipython-input-17-7ba1f6d16156>\u001b[0m in \u001b[0;36m__next__\u001b[0;34m(self)\u001b[0m\n\u001b[1;32m     13\u001b[0m           \u001b[0;32mreturn\u001b[0m \u001b[0mday\u001b[0m\u001b[0;34m\u001b[0m\u001b[0;34m\u001b[0m\u001b[0m\n\u001b[1;32m     14\u001b[0m     \u001b[0;32melse\u001b[0m\u001b[0;34m:\u001b[0m\u001b[0;34m\u001b[0m\u001b[0;34m\u001b[0m\u001b[0m\n\u001b[0;32m---> 15\u001b[0;31m         \u001b[0;32mraise\u001b[0m \u001b[0mStopIteration\u001b[0m\u001b[0;34m\u001b[0m\u001b[0;34m\u001b[0m\u001b[0m\n\u001b[0m\u001b[1;32m     16\u001b[0m \u001b[0;34m\u001b[0m\u001b[0m\n\u001b[1;32m     17\u001b[0m \u001b[0mweek\u001b[0m \u001b[0;34m=\u001b[0m \u001b[0mWeekIterator\u001b[0m\u001b[0;34m(\u001b[0m\u001b[0;34m)\u001b[0m\u001b[0;34m\u001b[0m\u001b[0;34m\u001b[0m\u001b[0m\n",
            "\u001b[0;31mStopIteration\u001b[0m: "
          ]
        }
      ]
    },
    {
      "cell_type": "markdown",
      "source": [
        "# Вітаю! Ви велика(ий) молодець, що впоралась(вся). Похваліть себе та побалуйте чимось приємним. Я Вами пишаюся."
      ],
      "metadata": {
        "id": "Z3E3S_s1Fv7-"
      }
    }
  ]
}